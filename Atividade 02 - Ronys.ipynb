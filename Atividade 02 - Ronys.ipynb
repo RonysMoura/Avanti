{
  "cells": [
    {
      "cell_type": "markdown",
      "id": "847b1083",
      "metadata": {},
      "source": [
        "**1. Escreva uma função que receba uma lista de números e retorne outra lista com os números ímpares.**"
      ]
    },
    {
      "cell_type": "code",
      "execution_count": 52,
      "id": "660781b8",
      "metadata": {},
      "outputs": [
        {
          "name": "stdout",
          "output_type": "stream",
          "text": [
            "Lista de 10 numeros aletórios: [27, 50, 37, 12, 66, 93, 59, 43, 71, 1]\n",
            "Retorno dos números ímpares: [27, 37, 93, 59, 43, 71, 1]\n"
          ]
        }
      ],
      "source": [
        "#importar a bibliotecas para todos os exercícios\n",
        "import pandas as pd\n",
        "import numpy as np\n",
        "import random \n",
        "\n",
        "#Criar função para numeros ímpares \n",
        "def numeros_impares(numeros):\n",
        "    numeros_impares = [] #armazenar os numeros ímpares do loop usando o .append\n",
        "    for i in numeros:\n",
        "        if i % 2 != 0:  #verifica se o número é ímpar\n",
        "            numeros_impares.append(i) #acrescenta os numeros impares na lista numeros_impares[]\n",
        "    return numeros_impares #retorar os numeros impares da lista\n",
        "\n",
        "#Criar lista com 10 numeros aleatórios de 1 à 100 \n",
        "lista_numeros = [random.randint(1, 100) for _ in range(10)]\n",
        "\n",
        "#Armazenar os numeros ímpares que retornaram da lista\n",
        "return_impares = numeros_impares(lista_numeros)\n",
        "\n",
        "print(f\"Lista de 10 numeros aletórios: {lista_numeros}\")\n",
        "print(f\"Retorno dos números ímpares: {return_impares}\")\n"
      ]
    },
    {
      "cell_type": "markdown",
      "id": "20687244",
      "metadata": {},
      "source": [
        "**2. Escreva uma função que receba uma lista de números e retorne outra lista com os números primos presentes.**"
      ]
    },
    {
      "cell_type": "code",
      "execution_count": null,
      "id": "3603cbfd",
      "metadata": {},
      "outputs": [],
      "source": [
        "#Tentei essa um pouco e não conseguir, devido o tempo curto para entregar a atividade, achei melhor ir para a próxima questão. se der tempo eu tento novamente."
      ]
    },
    {
      "cell_type": "markdown",
      "id": "590b711a",
      "metadata": {},
      "source": [
        "**3. Escreva uma função que receba duas listas e retorne outra lista com os elementos que estão presentes em apenas uma das listas.** "
      ]
    },
    {
      "cell_type": "code",
      "execution_count": 53,
      "id": "9e1a98aa",
      "metadata": {},
      "outputs": [
        {
          "name": "stdout",
          "output_type": "stream",
          "text": [
            "Diferença (conjunto1 - conjunto2): {1, 2}\n",
            "Diferença (conjunto2 - conjunto1): {5, 6}\n",
            "Numeros quem estão em apenas um conjunto {1, 2, 5, 6}\n"
          ]
        }
      ],
      "source": [
        "#Devido tempo, conseguir com os conjuntos, iria tentar criar uma função com lista depois\n",
        "conjunto1 = {1, 2, 3, 4}\n",
        "conjunto2 = {3, 4, 5, 6}\n",
        "\n",
        "diferenca1 = conjunto1 - conjunto2\n",
        "print(\"Diferença (conjunto1 - conjunto2):\", diferenca1)\n",
        "\n",
        "diferenca2 = conjunto2 - conjunto1\n",
        "print(\"Diferença (conjunto2 - conjunto1):\", diferenca2)\n",
        "\n",
        "conjunto_total = diferenca1 | diferenca2\n",
        "print(\"Numeros quem estão em apenas um conjunto\", conjunto_total)"
      ]
    },
    {
      "cell_type": "markdown",
      "id": "a1585789",
      "metadata": {},
      "source": [
        "**4. Dada uma lista de números inteiros, escreva uma função para encontrar o segundo maior valor na lista.** "
      ]
    },
    {
      "cell_type": "code",
      "execution_count": 54,
      "id": "6ac9a670",
      "metadata": {},
      "outputs": [
        {
          "name": "stdout",
          "output_type": "stream",
          "text": [
            "O maior número da lista [35, 20, 666, 777, 50] é 777\n"
          ]
        }
      ],
      "source": [
        "#tentei encontrar o segundo maior, maior não conseguir, apenas o numero maior\n",
        "\n",
        "#Encontrar o valor máximo de lista\n",
        "def encontrar_maximo(lista):\n",
        "    maximo = lista[0]\n",
        "    for i in lista:\n",
        "        if i > maximo:\n",
        "            maximo = i\n",
        "    return maximo\n",
        "\n",
        "#chamando a função e imprimindo o resultado\n",
        "lista = [35, 20, 666, 777, 50]\n",
        "\n",
        "print(f\"O maior número da lista {lista} é {encontrar_maximo(lista)}\")"
      ]
    },
    {
      "cell_type": "markdown",
      "id": "d3a7866d",
      "metadata": {},
      "source": [
        "**5. Crie uma função que receba uma lista de tuplas, cada uma contendo o nome e a idade de uma pessoa, e retorne a lista ordenada pelo nome das pessoas em ordem alfabética.** "
      ]
    },
    {
      "cell_type": "code",
      "execution_count": 55,
      "id": "efa6471d",
      "metadata": {},
      "outputs": [
        {
          "name": "stdout",
          "output_type": "stream",
          "text": [
            "Lista antes da ordenação: [('João', 20), ('Matheus', 25), ('Carlos', 32), ('Lucas', 21)]\n",
            "Lista ordenada pelo nome: [('Carlos', 32), ('João', 20), ('Lucas', 21), ('Matheus', 25)]\n"
          ]
        }
      ],
      "source": [
        "# Função para ordernar em ordem alfabética\n",
        "def ordenar_pessoas(lista_de_pessoas):\n",
        "  return sorted(lista_de_pessoas, key=lambda pessoa: pessoa[0])\n",
        "\n",
        "# Lista de tuplas com nomes e idades\n",
        "pessoas = [\n",
        "    (\"João\", 20),\n",
        "    (\"Matheus\", 25),\n",
        "    (\"Carlos\", 32),\n",
        "    (\"Lucas\", 21)\n",
        "]\n",
        "\n",
        "# Dados retornados da função\n",
        "lista_ordenada = ordenar_pessoas(pessoas)\n",
        "\n",
        "#Imprimir os dados \n",
        "print(\"Lista antes da ordenação:\", pessoas)\n",
        "print(\"Lista ordenada pelo nome:\", lista_ordenada)\n"
      ]
    },
    {
      "cell_type": "markdown",
      "id": "763cbe17",
      "metadata": {},
      "source": [
        "**6. Como identificar e tratar outliers em uma coluna numérica usando desvio padrão ou quartis?** "
      ]
    },
    {
      "cell_type": "markdown",
      "id": "2475dedd",
      "metadata": {},
      "source": [
        "Resposta: para identificar os outliers, só verificar valores que estão muito fora dos valores da média, ou plotando um gráfico para encontrar mais facilmente esses outliers, para tratar depende do dado em questão, depedendo do outliers em questão despois de analisado, fica a critério excluir os dados se for um valor que analisado não tem relação com os valores oou pode ser um ruído, podemos substituir o dado por uma média ou mediana também dependendo do caso, ou a moda em questão. esse termo quartis nunca ouvir falar."
      ]
    },
    {
      "cell_type": "markdown",
      "id": "3bb7005c",
      "metadata": {},
      "source": [
        "**7. Como concatenar vários DataFrames (empilhando linhas ou colunas), mesmo que tenham colunas diferentes? Dica: Utiliza-se pd.concat() especificando axis=0 (linhas) ou axis=1 (colunas). Quando há colunas diferentes, os valores ausentes são preenchidos com NaN.**"
      ]
    },
    {
      "cell_type": "markdown",
      "id": "508e0ba5",
      "metadata": {},
      "source": [
        "Resposta: não entendi muito bem a pergunta se era para criar um código ou apenas descrever a função pd.contat()\n",
        "\n",
        "- Para empilhar os dataframes por linhas geralmente usa esse função \"df_concat = pd.concat([df1, df2], axis=0)\" axis=0 para epilhar por linhas, dataframe cresce verticalmente\n",
        "\n",
        "- Para empilhar os dataframes por colunas geralmente usa esse função \"df_concat = pd.concat([df1, df2], axis=1)\" axis=1 para epilhar por colunas, dataframe cresce lateralmente\n",
        "\n",
        "as colunas ou linhas que estiverem com valores ausentes serão preenchidos com \"NaN\""
      ]
    },
    {
      "cell_type": "markdown",
      "id": "1cf50f20",
      "metadata": {},
      "source": [
        "**8. Utilizando pandas, como realizar a leitura de um arquivo CSV em um DataFrame e exibir as primeiras linhas?** "
      ]
    },
    {
      "cell_type": "markdown",
      "id": "a7fc1eca",
      "metadata": {},
      "source": [
        "- Para ler um .CSV no pandas a função e:\n",
        "df = pd.read_csv(caminho_do_arquivo, ex:\"C:/Users/arquivo.csv\")\n",
        "\n",
        "- Para exibir as 05 primeiras linhas do dataframe\n",
        "print(df.head(5))"
      ]
    },
    {
      "cell_type": "markdown",
      "id": "06ddafa3",
      "metadata": {},
      "source": [
        "**9. Utilizando pandas, como selecionar uma coluna específica e filtrar linhas em um “DataFrame” com base em uma condição?** "
      ]
    },
    {
      "cell_type": "code",
      "execution_count": 56,
      "id": "c664e0cd",
      "metadata": {},
      "outputs": [
        {
          "name": "stdout",
          "output_type": "stream",
          "text": [
            "      Nome  Idade     Cidade\n",
            "0  Ronaldo     30  Fortaleza\n",
            "1  Juliana     25      Piaui\n",
            "2   Carlos     32   Maranhão\n",
            "0    30\n",
            "1    25\n",
            "2    32\n",
            "Name: Idade, dtype: int64\n",
            "(0    False\n",
            "1    False\n",
            "2     True\n",
            "Name: Nome, dtype: bool, False, False)\n"
          ]
        }
      ],
      "source": [
        "#Criar o dataframe e imprimir\n",
        "dados = {'Nome': ['Ronaldo', 'Juliana', 'Carlos'],\n",
        "        'Idade': [30, 25, 32],\n",
        "        'Cidade': ['Fortaleza', 'Piaui', 'Maranhão']}\n",
        "df = pd.DataFrame(dados)\n",
        "print(df)\n",
        "\n",
        "# Selecionando a coluna 'Idade' e imprimir\n",
        "coluna = df['Idade']\n",
        "print(coluna)\n",
        "\n",
        "# Selecionar dados da terceira linha, não conseguir remover os dados, apenas criar uma condição e dizer se era verdadeiro ou falso :/\n",
        "terceira_linha = df['Nome'] == 'Carlos', ['Idade'] == 32, ['Ciade'] ==  'Maranhão'\n",
        "print(terceira_linha)"
      ]
    },
    {
      "cell_type": "markdown",
      "id": "3cfb4a79",
      "metadata": {},
      "source": [
        "**10. Utilizando pandas, como lidar com valores ausentes (NaN) em um DataFrame?** "
      ]
    },
    {
      "cell_type": "code",
      "execution_count": 57,
      "id": "73c77d56",
      "metadata": {},
      "outputs": [
        {
          "name": "stdout",
          "output_type": "stream",
          "text": [
            "\n",
            "      A    B  C\n",
            "0  1.0  NaN  1\n",
            "1  2.0  2.0  2\n",
            "2  NaN  3.0  3\n",
            "3  4.0  4.0  4\n",
            "\n",
            "        A      B      C\n",
            "0  False   True  False\n",
            "1  False  False  False\n",
            "2   True  False  False\n",
            "3  False  False  False\n",
            "\n",
            " A    1\n",
            "B    1\n",
            "C    0\n",
            "dtype: int64\n",
            "\n",
            "      A    B  C\n",
            "1  2.0  2.0  2\n",
            "3  4.0  4.0  4\n",
            "\n",
            "      A    B  C\n",
            "0  1.0  NaN  1\n",
            "1  2.0  2.0  2\n",
            "3  4.0  4.0  4\n",
            "\n",
            "           A    B  C\n",
            "0  1.000000  3.0  1\n",
            "1  2.000000  2.0  2\n",
            "2  2.333333  3.0  3\n",
            "3  4.000000  4.0  4\n"
          ]
        }
      ],
      "source": [
        "data = {'A': [1, 2, None, 4],\n",
        "        'B': [None, 2, 3, 4],\n",
        "        'C': [1, 2, 3, 4]}\n",
        "df = pd.DataFrame(data)\n",
        "print(f\"\\n\", df)\n",
        "\n",
        "#Verificar onde estão faltando os dados em cada coluna com 'True\"\n",
        "print(f\"\\n\", df.isnull())\n",
        "\n",
        "#Verificar a quantidade de valores ausentes em cada coluna\n",
        "print(f\"\\n\", df.isnull().sum())\n",
        "\n",
        "'''Podemos utilizar o .dropna() para remover todas as linhas faltando dados ou df.dropna(subset=['A']) e específicar apenas a coluna para remover as linhas com dados faltando.\n",
        "temos várias formas de remover dados'''\n",
        "\n",
        "print(f\"\\n\", df.dropna())\n",
        "\n",
        "print(f\"\\n\", df.dropna(subset=['A']))\n",
        "\n",
        "#Podemos preencher com a média, tembém temos várias formas diferentes de preencher valores ausente, mediana, moda, inputar valores e etc\n",
        "print(f\"\\n\", df.fillna(df.mean()))\n",
        "\n"
      ]
    }
  ],
  "metadata": {
    "colab": {
      "provenance": []
    },
    "kernelspec": {
      "display_name": "Python 3",
      "language": "python",
      "name": "python3"
    },
    "language_info": {
      "codemirror_mode": {
        "name": "ipython",
        "version": 3
      },
      "file_extension": ".py",
      "mimetype": "text/x-python",
      "name": "python",
      "nbconvert_exporter": "python",
      "pygments_lexer": "ipython3",
      "version": "3.12.6"
    }
  },
  "nbformat": 4,
  "nbformat_minor": 5
}
